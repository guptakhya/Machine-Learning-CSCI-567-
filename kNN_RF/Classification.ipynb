{
  "cells": [
    {
      "cell_type": "markdown",
      "source": [
        "Name: Khyati Gupta\n",
        "\n",
        "USC ID: 8031075887\n",
        "\n",
        "\n",
        "\n"
      ],
      "metadata": {
        "id": "xtGCiBweor2u"
      }
    },
    {
      "cell_type": "markdown",
      "metadata": {
        "id": "949jxQlGF1En"
      },
      "source": [
        "# **K Nearest Neighbors: 50 Points**"
      ]
    },
    {
      "cell_type": "markdown",
      "metadata": {
        "id": "mZWlFYBRF1En"
      },
      "source": [
        "K-Nearest Neighbors (KNN) is a supervised learning algorithm used for both classification and regression tasks. It doesn't learn parameters or rules like other methods, but instead predicts outputs based on the similarity of inputs. In classification, a new instance is assigned the most common class among its 'K' closest instances from the training data. In regression, it's assigned the average value of the 'K' nearest instances. The choice of 'K' and proper scaling of input features are crucial for optimal results."
      ]
    },
    {
      "cell_type": "markdown",
      "metadata": {
        "id": "Zm9Y3Cq3F1En"
      },
      "source": [
        "**Importing all the required libraries.**"
      ]
    },
    {
      "cell_type": "code",
      "execution_count": 19,
      "metadata": {
        "id": "yirfjNb9F1Eo"
      },
      "outputs": [],
      "source": [
        "from sklearn.model_selection import train_test_split\n",
        "from sklearn.preprocessing import MinMaxScaler, Normalizer\n",
        "import matplotlib.pyplot as plt\n",
        "import numpy as np"
      ]
    },
    {
      "cell_type": "markdown",
      "source": [
        "**Importing Dataset**"
      ],
      "metadata": {
        "id": "YtKQvs9niurN"
      }
    },
    {
      "cell_type": "markdown",
      "source": [
        "We are going to be using the wine toy dataset from SciKit Learn"
      ],
      "metadata": {
        "id": "T92FPNbHi_BX"
      }
    },
    {
      "cell_type": "code",
      "source": [
        "from sklearn.datasets import load_wine\n",
        "wine_data = load_wine()"
      ],
      "metadata": {
        "id": "f9bNpHrOiqEE"
      },
      "execution_count": 20,
      "outputs": []
    },
    {
      "cell_type": "markdown",
      "metadata": {
        "id": "NrNrFJWjF1Eo"
      },
      "source": [
        "**Data Processing**\n",
        "\n",
        "**TODO: Split the Dataset (5 Points)**\n"
      ]
    },
    {
      "cell_type": "code",
      "execution_count": 21,
      "metadata": {
        "id": "6lZCcOaSF1Eo"
      },
      "outputs": [],
      "source": [
        "def data_processing(wine_data):\n",
        "    # Split the dataset into training set and temporary set using 80-20 split, use random_state = 0\n",
        "    ##### INPUT CODE HERE (~1 line of code) ######\n",
        "\n",
        "    #print(len(wine_data['target']))\n",
        "    X_train, X_temp, y_train, y_temp = train_test_split(wine_data['data'], wine_data['target'], test_size=0.2, random_state=0)\n",
        "    #print(len(y_train))\n",
        "    #print(len(y_temp))\n",
        "    ##############################################\n",
        "\n",
        "    # Split the temporary set into validation set and test set using 50-50 split, use random_state = 0\n",
        "    ##### INPUT CODE HERE (~1 line of code) ######\n",
        "\n",
        "    X_val, X_test, y_val, y_test = train_test_split(X_temp, y_temp, test_size=0.5, random_state=0)\n",
        "    #print(len(y_val))\n",
        "    #print(len(y_test))\n",
        "\n",
        "    ##############################################\n",
        "    \n",
        "\n",
        "    # Convert all datasets into numpy arrays\n",
        "    X_train = np.array(X_train)\n",
        "    X_val = np.array(X_val)\n",
        "    X_test = np.array(X_test)\n",
        "\n",
        "    y_train = np.array(y_train)\n",
        "    y_val = np.array(y_val)\n",
        "    y_test = np.array(y_test)\n",
        "\n",
        "    return X_train, y_train, X_val, y_val, X_test, y_test"
      ]
    },
    {
      "cell_type": "markdown",
      "metadata": {
        "id": "gT_mV5ZmF1Eo"
      },
      "source": [
        "**Data Processing With Transformations (MinMax and Normalization)**  \n",
        "**TODO: Add MinMax and Normalization Code (5 Points)**"
      ]
    },
    {
      "cell_type": "code",
      "execution_count": 22,
      "metadata": {
        "id": "36z1oLEGF1Ep"
      },
      "outputs": [],
      "source": [
        "def data_processing_with_transformation(wine_data, do_minmax_scaling=True, do_normalization=False):\n",
        "    # Split the dataset into training set and temporary set using 80-20 split, use random_state = 0\n",
        "    ##### INPUT CODE HERE (~1 line of code) ######\n",
        "\n",
        "    ##############################################\n",
        "    X_train, X_temp, y_train, y_temp = train_test_split(wine_data['data'], wine_data['target'], test_size=0.2, random_state=0)\n",
        "\n",
        "    # Split the temporary set into validation set and test set using 50-50 split, use random_state = 0\n",
        "    ##### INPUT CODE HERE (~1 line of code) ######\n",
        "    X_val, X_test, y_val, y_test = train_test_split(X_temp, y_temp, test_size=0.5, random_state=0)\n",
        "    ##############################################\n",
        "    #print(X_val)\n",
        "\n",
        "    # Convert all datasets into numpy arrays\n",
        "    X_train = np.array(X_train)\n",
        "    X_val = np.array(X_val)\n",
        "    X_test = np.array(X_test)\n",
        "\n",
        "    y_train = np.array(y_train)\n",
        "    y_val = np.array(y_val)\n",
        "    y_test = np.array(y_test)\n",
        "\n",
        "    # Min-Max scaling\n",
        "    if do_minmax_scaling:\n",
        "        #####################################################\n",
        "        scaler = MinMaxScaler()\n",
        "        X_train = scaler.fit_transform(X_train)\n",
        "        X_val = scaler.fit_transform(X_val)\n",
        "        X_test = scaler.fit_transform(X_test)\n",
        "        #####################################################\n",
        "\n",
        "    #print(X_val)\n",
        "    # Normalization\n",
        "    if do_normalization:\n",
        "        #####################################################\n",
        "        X_train = Normalizer().fit_transform(X_train)\n",
        "        X_val = Normalizer().fit_transform(X_val)\n",
        "        X_test = Normalizer().fit_transform(X_test)\n",
        "        #####################################################\n",
        "\n",
        "    #print(X_val)\n",
        "\n",
        "    return X_train, y_train, X_val, y_val, X_test, y_test"
      ]
    },
    {
      "cell_type": "markdown",
      "metadata": {
        "id": "mCmRfvqDF1Ep"
      },
      "source": [
        "**TODO: Complete compute_l2_distances( ) function  (10 Points)**\n",
        "\n",
        "The L2 distance, also known as the Euclidean distance, is a measure of the straight line distance between two points in a space. It is commonly used in machine learning to compute the similarity between vectors.  "
      ]
    },
    {
      "cell_type": "markdown",
      "metadata": {
        "id": "9ONIdMBrF1Ep"
      },
      "source": [
        "The L2 distance, or Euclidean distance, between two vectors `x` and `x'` is given by:\n",
        "\n",
        "$$\n",
        "d(x, x') = \\left\\| x - x' \\right\\|_2 = \\sqrt{\\sum_{i} (x_i - x'_i)^2}\n",
        "$$\n",
        "\n",
        "Where:\n",
        "\n",
        "- $d(x, x')$ is the L2 distance between vectors `x` and `x'`\n",
        "- $x_i$ is the ith element of vector `x`\n",
        "- $x'_i$ is the ith element of vector `x'`\n",
        "- The sum is over all elements of the vectors\n",
        "\n",
        "The square root of the sum of the squared differences of the corresponding elements of the vectors gives the L2 distance."
      ]
    },
    {
      "cell_type": "code",
      "execution_count": 23,
      "metadata": {
        "id": "cfCrUP0SF1Ep"
      },
      "outputs": [],
      "source": [
        "def compute_l2_distances(Xtrain, X):\n",
        "    \"\"\"\n",
        "    Compute the distance between each test point in X and each training point\n",
        "    in Xtrain.\n",
        "    Inputs:\n",
        "    - Xtrain: A numpy array of shape (num_train, D) containing training data\n",
        "    - X: A numpy array of shape (num_test, D) containing test data.\n",
        "    Returns:\n",
        "    - dists: A numpy array of shape (num_test, num_train) where dists[i, j]\n",
        "      is the Euclidean distance between the ith test point and the jth training\n",
        "      point.\n",
        "    \"\"\"\n",
        "    #####################################################\n",
        "    # np.linalg.norm used to compute the L2 distance (default)\n",
        "    dists = np.array([[np.linalg.norm(row_test-row_train) for row_train in Xtrain] for row_test in X])\n",
        "    #print(Xtrain.shape)\n",
        "    #print(X.shape)\n",
        "    #print(dists)\n",
        "    #####################################################\n",
        "    return dists"
      ]
    },
    {
      "cell_type": "markdown",
      "metadata": {
        "id": "SeuRWM4NF1Eq"
      },
      "source": [
        ":**TODO: Complete compute_cosine_distances( ) function  (10 Points)**\n",
        "\n",
        "Cosine distance is a measure of dissimilarity between two vectors that goes from 0 to 2. It is derived from the cosine similarity measure, which calculates the cosine of the angle between two vectors.\n",
        "\n",
        "The cosine distance between two vectors `x` and `x'` is given by:\n",
        "\n",
        "$$\n",
        "d(x, x') = \n",
        "\\begin{cases} \n",
        "1 & \\text{if } \\|x\\|_2 = 0 \\text{ or } \\|x'\\|_2 = 0 \\\\\n",
        "1 - \\frac{x \\cdot x'}{\\|x\\|_2 \\|x'\\|_2} & \\text{otherwise}\n",
        "\\end{cases}\n",
        "$$\n",
        "\n",
        "Where:\n",
        "\n",
        "- $d(x, x')$ is the cosine distance between vectors `x` and `x'`\n",
        "- $x \\cdot x'$ is the dot product of vectors `x` and `x'`\n",
        "- $\\|x\\|_2$ and $\\|x'\\|_2$ are the L2 norms (or magnitudes) of the vectors `x` and `x'`\n",
        "- The condition checks if either norm is zero. If so, it returns 1, otherwise it calculates the cosine distance.\n"
      ]
    },
    {
      "cell_type": "code",
      "execution_count": 30,
      "metadata": {
        "id": "dwN3Dl6QF1Eq"
      },
      "outputs": [],
      "source": [
        "def compute_cosine_distances(Xtrain, X):\n",
        "    \"\"\"\n",
        "    Compute the distance between each test point in X and each training point\n",
        "    in Xtrain.\n",
        "    Inputs:\n",
        "    - Xtrain: A numpy array of shape (num_train, D) containing training data\n",
        "    - X: A numpy array of shape (num_test, D) containing test data.\n",
        "    Returns:\n",
        "    - dists: A numpy array of shape (num_test, num_train) where dists[i, j]\n",
        "      is the Cosine distance between the ith test point and the jth training\n",
        "      point.\n",
        "    \"\"\"\n",
        "    #####################################################\n",
        "    L2_norm_Xtrain = [np.linalg.norm(row) for row in Xtrain]\n",
        "    L2_norm_X = [np.linalg.norm(row) for row in X]\n",
        "    dists = np.zeros(shape=(X.shape[0],Xtrain.shape[0]))\n",
        "    for ind_x, x in enumerate(X):\n",
        "      for ind_xtrain, xtrain in enumerate(Xtrain):\n",
        "        if(L2_norm_Xtrain[ind_xtrain] == 0 or L2_norm_X[ind_x] == 0):\n",
        "          dists[ind_x,ind_xtrain] = 1\n",
        "        else:\n",
        "          dists[ind_x,ind_xtrain] = 1 - ((x.dot(xtrain))/(L2_norm_Xtrain[ind_xtrain]*L2_norm_X[ind_x]))\n",
        "    \n",
        "    #print(dists)\n",
        "    #####################################################\n",
        "    return dists"
      ]
    },
    {
      "cell_type": "markdown",
      "metadata": {
        "id": "OIEO1bCOF1Eq"
      },
      "source": [
        "**TODO: Complete predict_labels( ) function (5 Points)**"
      ]
    },
    {
      "cell_type": "code",
      "execution_count": 24,
      "metadata": {
        "id": "Pf6-NFfiF1Er"
      },
      "outputs": [],
      "source": [
        "def predict_labels(k, ytrain, dists):\n",
        "    \"\"\"\n",
        "    Given a matrix of distances between test points and training points,\n",
        "    predict a label for each test point.\n",
        "    Inputs:\n",
        "    - k: The number of nearest neighbors used for prediction.\n",
        "    - ytrain: A numpy array of shape (num_train,) where ytrain[i] is the label\n",
        "      of the ith training point.\n",
        "    - dists: A numpy array of shape (num_test, num_train) where dists[i, j]\n",
        "      gives the distance betwen the ith test point and the jth training point.\n",
        "    Returns:\n",
        "    - ypred: A numpy array of shape (num_test,) containing predicted labels for the\n",
        "      test data, where y[i] is the predicted label for the test point X[i].\n",
        "    \"\"\"\n",
        "    #####################################################\n",
        "    ypred = np.full(dists.shape[0], -9) #-9 is a randomly chosen initialiser as this is a value outside of the class values\n",
        "    for ind, row in enumerate(dists):\n",
        "      #print('row')\n",
        "      #print(row)\n",
        "      sorted_args = np.argsort(row)\n",
        "      #print('Sorted args')\n",
        "      #print(sorted_args)\n",
        "      temp = [ytrain[sorted_args[i]] for i in range(k)]\n",
        "      #print('temp')\n",
        "      #print(temp)\n",
        "      y_knn = max(temp,key=temp.count)\n",
        "      #print('y_knn')\n",
        "      #print(y_knn)\n",
        "      ypred[ind] = y_knn\n",
        "    #####################################################\n",
        "    return ypred"
      ]
    },
    {
      "cell_type": "markdown",
      "metadata": {
        "id": "s9Zk8w6gF1Er"
      },
      "source": [
        "**TODO: Complete compute_error_rate( ) function (5 Points)**"
      ]
    },
    {
      "cell_type": "code",
      "execution_count": 25,
      "metadata": {
        "id": "XSmILXe3F1Er"
      },
      "outputs": [],
      "source": [
        "def compute_error_rate(y, ypred):\n",
        "    \"\"\"\n",
        "    Compute the error rate of prediction based on the true labels.\n",
        "    Inputs:\n",
        "    - y: A numpy array with of shape (num_test,) where y[i] is the true label\n",
        "      of the ith test point.\n",
        "    - ypred: A numpy array with of shape (num_test,) where ypred[i] is the\n",
        "      prediction of the ith test point.\n",
        "    Returns:\n",
        "    - err: The error rate of prediction (scalar).\n",
        "    \"\"\"\n",
        "    #####################################################\n",
        "    y_err = np.count_nonzero(y - ypred != 0)\n",
        "    err = y_err/ypred.shape[0]\n",
        "\n",
        "    #####################################################\n",
        "    return err"
      ]
    },
    {
      "cell_type": "markdown",
      "metadata": {
        "id": "R1LODccXF1Er"
      },
      "source": [
        "**TODO: Complete find_best_k( ) function (10 Points)**"
      ]
    },
    {
      "cell_type": "code",
      "execution_count": 26,
      "metadata": {
        "id": "5b5UIrpmF1Es"
      },
      "outputs": [],
      "source": [
        "def find_best_k(K, ytrain, dists, yval):\n",
        "    \"\"\"\n",
        "    Find best k according to validation error rate.\n",
        "    Inputs:\n",
        "    - K: A list of ks.\n",
        "    - ytrain: A numpy array of shape (num_train,) where ytrain[i] is the label\n",
        "      of the ith training point.\n",
        "    - dists: A numpy array of shape (num_test, num_train) where dists[i, j]\n",
        "      is the distance between the ith test point and the jth training\n",
        "      point.\n",
        "    - yval: A numpy array with of shape (num_val,) where y[i] is the true label\n",
        "      of the ith validation point.**TODO**: Complete compute_l2_distances( ) function\n",
        "    Returns:\n",
        "    - best_k: The k with the lowest error rate.\n",
        "    - validation_error: A list of error rate of different ks in K.\n",
        "    - best_err: The lowest error rate we get from all ks in K.\n",
        "    \"\"\"\n",
        "    #####################################################\n",
        "    best_err = 9999 #initialising to any value >1 should work\n",
        "    validation_error = []\n",
        "    best_k = -1\n",
        "    for k in K:\n",
        "      y_predicted = predict_labels(k, ytrain, dists)\n",
        "      error = compute_error_rate(yval, y_predicted)\n",
        "      validation_error.append(error)\n",
        "      if(error<best_err):\n",
        "        best_err = error\n",
        "        best_k = k\n",
        "    \n",
        "    #####################################################\n",
        "    return best_k, validation_error, best_err"
      ]
    },
    {
      "cell_type": "markdown",
      "metadata": {
        "id": "aYBT086kF1Es"
      },
      "source": [
        "### Report 4-nearest neighbor accuracy"
      ]
    },
    {
      "cell_type": "markdown",
      "metadata": {
        "id": "1fBik889F1Es"
      },
      "source": [
        "**Task**: Fill in the code for the function compute l2 distances .  \n",
        "**Task**: Fill in the code for the function predict labels ."
      ]
    },
    {
      "cell_type": "markdown",
      "metadata": {
        "id": "Nvum-R5-F1Es"
      },
      "source": [
        "**Report Item**: Report the error rate of your k nearest neighbor algorithm in the validation set when k = 4 using\n",
        "Euclidean distance."
      ]
    },
    {
      "cell_type": "code",
      "execution_count": 27,
      "metadata": {
        "id": "Dnior7X2F1Et",
        "colab": {
          "base_uri": "https://localhost:8080/"
        },
        "outputId": "5efa6a34-dd8c-4bd6-d249-34e26ee61959"
      },
      "outputs": [
        {
          "output_type": "stream",
          "name": "stdout",
          "text": [
            "The validation error rate is 0.1111111111111111 in Problem Set 1.1\n",
            "\n"
          ]
        }
      ],
      "source": [
        "#==================Problem Set 1.1=======================\n",
        "data = load_wine()\n",
        "output_file = 'knn_output.txt'\n",
        "# Compute distance matrix\n",
        "Xtrain, ytrain, Xval, yval, Xtest, ytest = data_processing(data)\n",
        "\n",
        "dists = compute_l2_distances(Xtrain, Xval)\n",
        "\n",
        "# Compute validation accuracy when k=4\n",
        "k = 4\n",
        "ypred = predict_labels(k, ytrain, dists)\n",
        "#print(ypred)\n",
        "err = compute_error_rate(yval, ypred)\n",
        "print(\"The validation error rate is\", err, \"in Problem Set 1.1\")\n",
        "print()"
      ]
    },
    {
      "cell_type": "markdown",
      "metadata": {
        "id": "rTb9DnFXF1Et"
      },
      "source": [
        "###  Data transformation"
      ]
    },
    {
      "cell_type": "markdown",
      "metadata": {
        "id": "15ktl5EnF1Et"
      },
      "source": [
        "**Task**: Fill in the code for the function data processing with transformation ."
      ]
    },
    {
      "cell_type": "markdown",
      "metadata": {
        "id": "gVOTHW4KF1Et"
      },
      "source": [
        "**Report Item**: Report the error rate of your k nearest neighbor algorithm in the validation set for k = 4 using Euclidean distance when data is using (1) Normalized featured vector, and (2) Min-max scaling featured vector."
      ]
    },
    {
      "cell_type": "code",
      "execution_count": 28,
      "metadata": {
        "id": "LTSHk_7YF1Et",
        "colab": {
          "base_uri": "https://localhost:8080/"
        },
        "outputId": "6568a755-4849-4bf3-8b0c-0f1187729504"
      },
      "outputs": [
        {
          "output_type": "stream",
          "name": "stdout",
          "text": [
            "The validation error rate is 0.05555555555555555 in Problem Set 1.2 when using normalization\n",
            "\n",
            "The validation error rate is 0.05555555555555555 in Problem Set 1.2 when using minmax_scaling\n",
            "\n"
          ]
        }
      ],
      "source": [
        "#==================Problem Set 1.2=======================\n",
        "\n",
        "# Compute distance matrix\n",
        "Xtrain, ytrain, Xval, yval, Xtest, ytest = data_processing_with_transformation(data, do_minmax_scaling=False, do_normalization=True)\n",
        "\n",
        "dists = compute_l2_distances(Xtrain, Xval)\n",
        "\n",
        "# Compute validation accuracy when k=4\n",
        "k = 4\n",
        "ypred = predict_labels(k, ytrain, dists)\n",
        "err = compute_error_rate(yval, ypred)\n",
        "print(\"The validation error rate is\", err, \"in Problem Set 1.2 when using normalization\")\n",
        "print()\n",
        "\n",
        "# Compute distance matrix\n",
        "Xtrain, ytrain, Xval, yval, Xtest, ytest = data_processing_with_transformation(data, do_minmax_scaling=True, do_normalization=False)\n",
        "\n",
        "dists = compute_l2_distances(Xtrain, Xval)\n",
        "\n",
        "# Compute validation accuracy when k=4\n",
        "k = 4\n",
        "ypred = predict_labels(k, ytrain, dists)\n",
        "err = compute_error_rate(yval, ypred)\n",
        "print(\"The validation error rate is\", err, \"in Problem Set 1.2 when using minmax_scaling\")\n",
        "print()\n",
        "\n"
      ]
    },
    {
      "cell_type": "markdown",
      "metadata": {
        "id": "lTk5N5aTF1Eu"
      },
      "source": [
        "\n",
        "\n",
        "```\n",
        "# This is formatted as code\n",
        "```\n",
        "\n",
        "### Different distance measurement"
      ]
    },
    {
      "cell_type": "markdown",
      "metadata": {
        "id": "6kPNJAP1F1Eu"
      },
      "source": [
        "**Task**: Fill in the code for the function compute cosine distances and change distance function used in the main func- tion in the code to get results."
      ]
    },
    {
      "cell_type": "markdown",
      "metadata": {
        "id": "BaQQNc-tF1Eu"
      },
      "source": [
        "**Report Item**: Report the error rate of your k nearest neighbor algorithm in the validation set for k = 4 using cosine distance for original data."
      ]
    },
    {
      "cell_type": "code",
      "execution_count": 31,
      "metadata": {
        "id": "XToosrIoF1Eu",
        "colab": {
          "base_uri": "https://localhost:8080/"
        },
        "outputId": "357bae1e-e0ed-4018-8110-a12139c56bcf"
      },
      "outputs": [
        {
          "output_type": "stream",
          "name": "stdout",
          "text": [
            "The validation error rate is 0.05555555555555555 in Problem Set 1.3, which use cosine distance\n",
            "\n"
          ]
        }
      ],
      "source": [
        "#==================Problem Set 1.3=======================\n",
        "\n",
        "# Compute distance matrix\n",
        "Xtrain, ytrain, Xval, yval, Xtest, ytest = data_processing(data)\n",
        "dists = compute_cosine_distances(Xtrain, Xval)\n",
        "\n",
        "# Compute validation accuracy when k=4\n",
        "k = 4\n",
        "ypred = predict_labels(k, ytrain, dists)\n",
        "err = compute_error_rate(yval, ypred)\n",
        "print(\"The validation error rate is\", err, \"in Problem Set 1.3, which use cosine distance\")\n",
        "print()"
      ]
    },
    {
      "cell_type": "markdown",
      "metadata": {
        "id": "SmaQkBstF1Ev"
      },
      "source": [
        "### Tuning the hyper-parameter k "
      ]
    },
    {
      "cell_type": "markdown",
      "metadata": {
        "id": "uLqTJ83xF1Ev"
      },
      "source": [
        "**Task**: Fill in the code for the function find best k ."
      ]
    },
    {
      "cell_type": "markdown",
      "metadata": {
        "id": "xH2mL9yMF1Ev"
      },
      "source": [
        "**Report Item**: \n",
        "1. Report and draw a curve based on the error rate of your model on the training set for each k. What do you observe?\n",
        "2. Report and draw a curve based on the error rate of your model on the validation set for each k. What is your best k?   \n",
        "3. What do you observe by comparing the difference between the two curves?\n",
        "4. What’s the final test set error rate you get using your best-k? \n",
        "5. Comment on these results."
      ]
    },
    {
      "cell_type": "code",
      "execution_count": 32,
      "metadata": {
        "id": "_DLsGWGUF1Ev",
        "colab": {
          "base_uri": "https://localhost:8080/"
        },
        "outputId": "3f0e2ca6-2113-4d36-a66e-10f08333ab2e"
      },
      "outputs": [
        {
          "output_type": "stream",
          "name": "stdout",
          "text": [
            "Error rate on training set for each k\n",
            "[0.0, 0.0, 0.06338028169014084, 0.13380281690140844, 0.1619718309859155, 0.22535211267605634, 0.20422535211267606, 0.22535211267605634, 0.24647887323943662, 0.24647887323943662]\n",
            "Error rate on validation set for each k\n",
            "[0.1111111111111111, 0.1111111111111111, 0.1111111111111111, 0.1111111111111111, 0.16666666666666666, 0.16666666666666666, 0.16666666666666666, 0.2222222222222222, 0.16666666666666666, 0.16666666666666666]\n",
            "In Problem Set 1.4, we use the best k =  1 with the best validation error rate 0.1111111111111111\n",
            "Using the best k, the final test error rate is 0.3333333333333333\n"
          ]
        }
      ],
      "source": [
        "\n",
        "#==================Problem Set 1.4=======================\n",
        "# Compute distance matrix\n",
        "Xtrain, ytrain, Xval, yval, Xtest, ytest = data_processing(data)\n",
        "\n",
        "#======performance of different k in training set=====\n",
        "K = [1, 2, 4, 6, 8, 10, 12, 14, 16, 18]\n",
        "\n",
        "dists = compute_l2_distances(Xtrain, Xtrain)\n",
        "best_k, training_error, best_err = find_best_k(K, ytrain, dists, ytrain)\n",
        "print('Error rate on training set for each k')\n",
        "print(training_error)\n",
        "#1.1 error rate increases with increase in k\n",
        "#==========select the best k by using validation set==============\n",
        "dists = compute_l2_distances(Xtrain, Xval)\n",
        "best_k, validation_error, best_err = find_best_k(K, ytrain, dists, yval)\n",
        "print('Error rate on validation set for each k')\n",
        "print(validation_error)\n",
        "#===============test the performance with your best k=============\n",
        "dists = compute_l2_distances(Xtrain, Xtest)\n",
        "ypred = predict_labels(best_k, ytrain, dists)\n",
        "test_err = compute_error_rate(ytest, ypred)\n",
        "print(\"In Problem Set 1.4, we use the best k = \", best_k, \"with the best validation error rate\", best_err) #also answers 1.2\n",
        "print(\"Using the best k, the final test error rate is\", test_err)"
      ]
    },
    {
      "cell_type": "code",
      "execution_count": null,
      "metadata": {
        "id": "9nYpTRU_F1Ew",
        "colab": {
          "base_uri": "https://localhost:8080/",
          "height": 823
        },
        "outputId": "bdcfcc38-a3ee-45c9-81da-f5355f91e1e3"
      },
      "outputs": [
        {
          "output_type": "display_data",
          "data": {
            "text/plain": [
              "<Figure size 1000x400 with 1 Axes>"
            ],
            "image/png": "[encoded data removed]"
          },
          "metadata": {}
        },
        {
          "output_type": "display_data",
          "data": {
            "text/plain": [
              "<Figure size 1000x400 with 1 Axes>"
            ],
            "image/png": "[encoded data removed]"
          },
          "metadata": {}
        }
      ],
      "source": [
        "#====================write your results to file===================\n",
        "f=open(output_file, 'w')\n",
        "for i in range(len(K)):\n",
        "    f.write('%d %.3f' % (K[i], validation_error[i])+'\\n')\n",
        "f.write('%s %.3f' % ('test', test_err))\n",
        "f.close()\n",
        "plt.figure(figsize=(10,4))\n",
        "plt.scatter(K, validation_error, color='red', label = 'Error Rates')\n",
        "plt.ylabel('Error', fontsize = 14)\n",
        "plt.xlabel('K Values', fontsize = 14)\n",
        "plt.title('K Values VS Error on Validation Set', fontsize = 18)\n",
        "plt.xticks(K)\n",
        "plt.legend()\n",
        "plt.grid()\n",
        "plt.savefig(\"Error_Rate_On_Validation_Set.png\")\n",
        "plt.figure(figsize=(10,4))\n",
        "plt.scatter(K, training_error, color='red', label = 'Error Rates')\n",
        "plt.ylabel('Error', fontsize = 14)\n",
        "plt.xlabel('K Values', fontsize = 14)\n",
        "plt.title('K Values VS Error on Training Set', fontsize = 18)\n",
        "plt.xticks(K)\n",
        "plt.legend()\n",
        "plt.grid()\n",
        "plt.savefig(\"Error_Rate_On_Training_Set.png\")"
      ]
    },
    {
      "cell_type": "markdown",
      "source": [
        "1.3 By comparing the 2 curves we notice that while the training set gives lesser error with lower values of k, validation set works for comparatively bigger values of k as well, but not too big after which the error rate for it starts to increase too.\n",
        "\n",
        "1.5 These results are somewhat in line with the concept of overfitting and underfitting. When we choose a bigger value of k, we generalise too much resulting in underfitting and so a higher error rate. For smaller values of k (k=1), we are overfitting and thus have a small (0) traning error. In this example the validation error isn't high but it would generally be otherwise."
      ],
      "metadata": {
        "id": "DukA5OHcb9ZM"
      }
    },
    {
      "cell_type": "markdown",
      "metadata": {
        "id": "qTorIDyxp9PA"
      },
      "source": [
        "# **Decision Tree Classification: 10 Points**"
      ]
    },
    {
      "cell_type": "markdown",
      "metadata": {
        "id": "c7UQXxqk_mIp"
      },
      "source": [
        "Decision Trees (DTs) are a non-parametric supervised learning method used for classification and regression. The goal is to create a model that predicts the value of a target variable by learning simple decision rules inferred from the data features. A tree can be seen as a piecewise constant approximation."
      ]
    },
    {
      "cell_type": "markdown",
      "metadata": {
        "id": "6FmlIiAi__u1"
      },
      "source": [
        "**STEP 1: Importing all the required libraries.**"
      ]
    },
    {
      "cell_type": "code",
      "execution_count": 33,
      "metadata": {
        "id": "2CQFMu_co3uB"
      },
      "outputs": [],
      "source": [
        "# Libraries for data analysis\n",
        "import numpy as np # For large multi-dimensional array and matrix processing\n",
        "import pandas as pd # For data extraction and preparation\n",
        "\n",
        "#The sklearn.tree module includes decision tree-based models for classification and regression.\n",
        "from sklearn import tree\n",
        "\n",
        "# Libraries for displaying results and analysis\n",
        "from sklearn.model_selection import train_test_split\n",
        "from sklearn.metrics import confusion_matrix, accuracy_score, ConfusionMatrixDisplay"
      ]
    },
    {
      "cell_type": "markdown",
      "metadata": {
        "id": "Tw2IL1zjARue"
      },
      "source": [
        "**STEP 2: Importing Dataset**"
      ]
    },
    {
      "cell_type": "markdown",
      "metadata": {
        "id": "vcZC7VWpAVde"
      },
      "source": [
        "We are going to be using the wine toy dataset from SciKit Learn"
      ]
    },
    {
      "cell_type": "code",
      "execution_count": 34,
      "metadata": {
        "id": "xZ8E5GxNteHV"
      },
      "outputs": [],
      "source": [
        "from sklearn.datasets import load_wine\n",
        "wine_data = load_wine()"
      ]
    },
    {
      "cell_type": "markdown",
      "metadata": {
        "id": "7H1o-aBUBNLC"
      },
      "source": [
        "You can optionally print the Description of the dataset for your reference."
      ]
    },
    {
      "cell_type": "code",
      "execution_count": 35,
      "metadata": {
        "id": "Qn_6VEEHzNpd",
        "colab": {
          "base_uri": "https://localhost:8080/"
        },
        "outputId": "09454d30-4dc2-40f4-e5a5-1baff1b3b4d5"
      },
      "outputs": [
        {
          "output_type": "stream",
          "name": "stdout",
          "text": [
            "(178, 13)\n",
            "(178,)\n",
            ".. _wine_dataset:\n",
            "\n",
            "Wine recognition dataset\n",
            "------------------------\n",
            "\n",
            "**Data Set Characteristics:**\n",
            "\n",
            "    :Number of Instances: 178\n",
            "    :Number of Attributes: 13 numeric, predictive attributes and the class\n",
            "    :Attribute Information:\n",
            " \t\t- Alcohol\n",
            " \t\t- Malic acid\n",
            " \t\t- Ash\n",
            "\t\t- Alcalinity of ash  \n",
            " \t\t- Magnesium\n",
            "\t\t- Total phenols\n",
            " \t\t- Flavanoids\n",
            " \t\t- Nonflavanoid phenols\n",
            " \t\t- Proanthocyanins\n",
            "\t\t- Color intensity\n",
            " \t\t- Hue\n",
            " \t\t- OD280/OD315 of diluted wines\n",
            " \t\t- Proline\n",
            "\n",
            "    - class:\n",
            "            - class_0\n",
            "            - class_1\n",
            "            - class_2\n",
            "\t\t\n",
            "    :Summary Statistics:\n",
            "    \n",
            "    ============================= ==== ===== ======= =====\n",
            "                                   Min   Max   Mean     SD\n",
            "    ============================= ==== ===== ======= =====\n",
            "    Alcohol:                      11.0  14.8    13.0   0.8\n",
            "    Malic Acid:                   0.74  5.80    2.34  1.12\n",
            "    Ash:                          1.36  3.23    2.36  0.27\n",
            "    Alcalinity of Ash:            10.6  30.0    19.5   3.3\n",
            "    Magnesium:                    70.0 162.0    99.7  14.3\n",
            "    Total Phenols:                0.98  3.88    2.29  0.63\n",
            "    Flavanoids:                   0.34  5.08    2.03  1.00\n",
            "    Nonflavanoid Phenols:         0.13  0.66    0.36  0.12\n",
            "    Proanthocyanins:              0.41  3.58    1.59  0.57\n",
            "    Colour Intensity:              1.3  13.0     5.1   2.3\n",
            "    Hue:                          0.48  1.71    0.96  0.23\n",
            "    OD280/OD315 of diluted wines: 1.27  4.00    2.61  0.71\n",
            "    Proline:                       278  1680     746   315\n",
            "    ============================= ==== ===== ======= =====\n",
            "\n",
            "    :Missing Attribute Values: None\n",
            "    :Class Distribution: class_0 (59), class_1 (71), class_2 (48)\n",
            "    :Creator: R.A. Fisher\n",
            "    :Donor: Michael Marshall (MARSHALL%PLU@io.arc.nasa.gov)\n",
            "    :Date: July, 1988\n",
            "\n",
            "This is a copy of UCI ML Wine recognition datasets.\n",
            "https://archive.ics.uci.edu/ml/machine-learning-databases/wine/wine.data\n",
            "\n",
            "The data is the results of a chemical analysis of wines grown in the same\n",
            "region in Italy by three different cultivators. There are thirteen different\n",
            "measurements taken for different constituents found in the three types of\n",
            "wine.\n",
            "\n",
            "Original Owners: \n",
            "\n",
            "Forina, M. et al, PARVUS - \n",
            "An Extendible Package for Data Exploration, Classification and Correlation. \n",
            "Institute of Pharmaceutical and Food Analysis and Technologies,\n",
            "Via Brigata Salerno, 16147 Genoa, Italy.\n",
            "\n",
            "Citation:\n",
            "\n",
            "Lichman, M. (2013). UCI Machine Learning Repository\n",
            "[https://archive.ics.uci.edu/ml]. Irvine, CA: University of California,\n",
            "School of Information and Computer Science. \n",
            "\n",
            ".. topic:: References\n",
            "\n",
            "  (1) S. Aeberhard, D. Coomans and O. de Vel, \n",
            "  Comparison of Classifiers in High Dimensional Settings, \n",
            "  Tech. Rep. no. 92-02, (1992), Dept. of Computer Science and Dept. of  \n",
            "  Mathematics and Statistics, James Cook University of North Queensland. \n",
            "  (Also submitted to Technometrics). \n",
            "\n",
            "  The data was used with many others for comparing various \n",
            "  classifiers. The classes are separable, though only RDA \n",
            "  has achieved 100% correct classification. \n",
            "  (RDA : 100%, QDA 99.4%, LDA 98.9%, 1NN 96.1% (z-transformed data)) \n",
            "  (All results using the leave-one-out technique) \n",
            "\n",
            "  (2) S. Aeberhard, D. Coomans and O. de Vel, \n",
            "  \"THE CLASSIFICATION PERFORMANCE OF RDA\" \n",
            "  Tech. Rep. no. 92-01, (1992), Dept. of Computer Science and Dept. of \n",
            "  Mathematics and Statistics, James Cook University of North Queensland. \n",
            "  (Also submitted to Journal of Chemometrics).\n",
            "\n"
          ]
        }
      ],
      "source": [
        "print(wine_data.data.shape)\n",
        "print(wine_data.target.shape)\n",
        "print(wine_data.DESCR)"
      ]
    },
    {
      "cell_type": "markdown",
      "metadata": {
        "id": "qOK9ShfyBbD0"
      },
      "source": [
        "**STEP 3: Split the Dataset (2 Points)**\n",
        "\n",
        "**TO DO:** Similar to the KNN Tutorial, split the given X and y data into X_train, X_test, y_train, y_test, using **test ratio of 0.3 and random_state = 0**."
      ]
    },
    {
      "cell_type": "code",
      "execution_count": 36,
      "metadata": {
        "id": "Bk8v4pJ5vVEn",
        "colab": {
          "base_uri": "https://localhost:8080/"
        },
        "outputId": "ca215259-13ca-4437-fe40-d3b990a6a4d1"
      },
      "outputs": [
        {
          "output_type": "stream",
          "name": "stdout",
          "text": [
            "Size of training data=  124  Samples\n",
            "Size of testing data=  54  Samples\n"
          ]
        }
      ],
      "source": [
        "X = wine_data.data\n",
        "y = wine_data.target\n",
        "\n",
        "##### Use numpy arrays ######\n",
        "X_train = None\n",
        "y_train = None\n",
        "X_test = None\n",
        "y_test = None\n",
        "\n",
        "##### INPUT CODE HERE (~1 line of code) ######\n",
        "X_train, X_test, y_train, y_test = train_test_split(X, y, test_size=0.3, random_state=0)\n",
        "##############################################\n",
        "\n",
        "assert X_train.shape == (124,13)\n",
        "assert y_train.shape == (124,)\n",
        "assert X_test.shape == (54,13)\n",
        "assert y_test.shape == (54,)\n",
        "\n",
        "print(\"Size of training data= \", X_train.shape[0],\" Samples\")\n",
        "print(\"Size of testing data= \", X_test.shape[0],\" Samples\")\n"
      ]
    },
    {
      "cell_type": "markdown",
      "metadata": {
        "id": "LPip_B47Dza3"
      },
      "source": [
        "**STEP 4: Fit model to training data (2 Points)**\n",
        "\n",
        "**TO DO:** Create a Decision Tree object (named decision_tree) with random state 0 and max depth of 3. Fit the given decision tree to X_train and y_train data. You may use [this link](https://scikit-learn.org/stable/modules/generated/sklearn.tree.DecisionTreeClassifier.html#sklearn.tree.DecisionTreeClassifier.fit) for reference."
      ]
    },
    {
      "cell_type": "code",
      "execution_count": 37,
      "metadata": {
        "id": "zrwrOMlj0Nkw",
        "colab": {
          "base_uri": "https://localhost:8080/"
        },
        "outputId": "bf7fefa3-e2fa-4368-ad98-3efa5e97cabf"
      },
      "outputs": [
        {
          "output_type": "stream",
          "name": "stdout",
          "text": [
            "Simple Visualization of the tree you created:\n",
            "|--- color_intensity <= 3.82\n",
            "|   |--- proline <= 1002.50\n",
            "|   |   |--- ash <= 3.00\n",
            "|   |   |   |--- class: 1\n",
            "|   |   |--- ash >  3.00\n",
            "|   |   |   |--- class: 0\n",
            "|   |--- proline >  1002.50\n",
            "|   |   |--- class: 0\n",
            "|--- color_intensity >  3.82\n",
            "|   |--- flavanoids <= 1.58\n",
            "|   |   |--- class: 2\n",
            "|   |--- flavanoids >  1.58\n",
            "|   |   |--- proline <= 737.00\n",
            "|   |   |   |--- class: 1\n",
            "|   |   |--- proline >  737.00\n",
            "|   |   |   |--- class: 0\n",
            "\n"
          ]
        }
      ],
      "source": [
        "decision_tree = None\n",
        "\n",
        "##### INPUT CODE HERE (~1 line of code) ######\n",
        "decision_tree = tree.DecisionTreeClassifier(max_depth=3, random_state=0).fit(X_train, y_train)\n",
        "##############################################\n",
        "\n",
        "print(\"Simple Visualization of the tree you created:\")\n",
        "print(tree.export_text(decision_tree, feature_names=wine_data.feature_names))\n"
      ]
    },
    {
      "cell_type": "markdown",
      "metadata": {
        "id": "gmAT6f-qFSSF"
      },
      "source": [
        "**STEP 5: Testing the model (2 Points)**\n",
        "\n",
        "**TO DO:** Find target predictions by giving **X_test** input to your model and store them in **y_pred**. You may need [this link](https://scikit-learn.org/stable/modules/generated/sklearn.tree.DecisionTreeClassifier.html#sklearn.tree.DecisionTreeClassifier.predict) for reference."
      ]
    },
    {
      "cell_type": "code",
      "execution_count": 38,
      "metadata": {
        "id": "HoXj0eqZDv-F",
        "colab": {
          "base_uri": "https://localhost:8080/"
        },
        "outputId": "892e13dc-9a63-43d0-f876-703cf4c1fca3"
      },
      "outputs": [
        {
          "output_type": "stream",
          "name": "stdout",
          "text": [
            "[0 2 1 0 1 1 0 2 1 1 2 2 0 1 2 1 0 0 2 0 1 0 1 1 1 1 1 1 1 2 0 0 1 0 0 0 2\n",
            " 1 1 2 1 0 1 1 1 0 2 1 2 0 2 2 0 2]\n"
          ]
        }
      ],
      "source": [
        "y_pred = None\n",
        "\n",
        "##### INPUT CODE HERE (~1 line of code) ######\n",
        "y_pred = decision_tree.predict(X_test)\n",
        "##############################################\n",
        "print(y_pred)"
      ]
    },
    {
      "cell_type": "markdown",
      "metadata": {
        "id": "ux7n7XZJF9VY"
      },
      "source": [
        "**STEP 6: Visualize the Results  (4 Points)**\n",
        "\n",
        "**TO DO:** Similar to the KNN Tutorial, plot confusion matrix, and accuracy of model predictions. Store accuracy in **acc** variable\n",
        "\n",
        "You may need the following references:\n",
        "\n",
        "[Confusion Matrix](https://scikit-learn.org/stable/modules/generated/sklearn.metrics.confusion_matrix.html)\n",
        "\n",
        "[Confusion Matrix Display](https://scikit-learn.org/stable/modules/generated/sklearn.metrics.ConfusionMatrixDisplay.html)\n",
        "\n",
        "[Accuracy](https://scikit-learn.org/stable/modules/generated/sklearn.metrics.accuracy_score.html)"
      ]
    },
    {
      "cell_type": "code",
      "execution_count": 39,
      "metadata": {
        "id": "CSXyi0iYwuy6",
        "colab": {
          "base_uri": "https://localhost:8080/",
          "height": 467
        },
        "outputId": "1c75484c-9b42-4312-d53e-f1ab8c65ce61"
      },
      "outputs": [
        {
          "output_type": "display_data",
          "data": {
            "text/plain": [
              "<Figure size 640x480 with 2 Axes>"
            ],
            "image/png": "[encoded data removed]"
          },
          "metadata": {}
        },
        {
          "output_type": "stream",
          "name": "stdout",
          "text": [
            "Accuracy of our model is equal to 0.94 %.\n"
          ]
        }
      ],
      "source": [
        "## Make sure to save your accuracy in the variable \"acc\"\n",
        "acc = 0\n",
        "##### INPUT CODE HERE (~4 line of code) ######\n",
        "# Make sure you plot the confusion matrix, i.e. once this code cell is run, it should output a 3X3 confusion matrix and accuracy #\n",
        "cnf_matrix = confusion_matrix(y_test, y_pred)\n",
        "disp = ConfusionMatrixDisplay(confusion_matrix = cnf_matrix)\n",
        "disp.plot()\n",
        "plt.show()\n",
        "acc = accuracy_score(y_test, y_pred)\n",
        "##############################################\n",
        "\n",
        "print('Accuracy of our model is equal to ' + str(round(acc, 2)) + ' %.')"
      ]
    },
    {
      "cell_type": "markdown",
      "metadata": {
        "id": "v3YuUi8ZHY9f"
      },
      "source": [
        "\n",
        "\n",
        "---\n",
        "\n"
      ]
    },
    {
      "cell_type": "markdown",
      "metadata": {
        "id": "uBbRybjU-xjE"
      },
      "source": [
        "# **Random Forest Regression: 15 Points**\n",
        "\n"
      ]
    },
    {
      "cell_type": "markdown",
      "metadata": {
        "id": "qGYwmGnGxn_u"
      },
      "source": [
        "Decision trees can also be applied to regression problems, using the DecisionTreeRegressor class.\n",
        "\n",
        "As in the classification setting, the fit method will take as argument arrays X and y, only that in this case y is expected to have floating point values instead of integer values:"
      ]
    },
    {
      "cell_type": "markdown",
      "metadata": {
        "id": "48r-OKiExtSw"
      },
      "source": [
        "**STEP 1: Importing all the required libraries.**"
      ]
    },
    {
      "cell_type": "code",
      "execution_count": 40,
      "metadata": {
        "id": "9kE4RyoD-4-z"
      },
      "outputs": [],
      "source": [
        "#The sklearn.ensemble module includes the RandomForest algorithm.\n",
        "from sklearn.ensemble import RandomForestRegressor\n",
        "\n",
        "# Libraries for calculating evaluation metrics\n",
        "from sklearn.metrics import mean_squared_error"
      ]
    },
    {
      "cell_type": "markdown",
      "metadata": {
        "id": "las8qWOUHfh2"
      },
      "source": [
        "**STEP 2: Importing Dataset**\n",
        "\n",
        "We are going to be using the California Housing dataset.\n",
        "It contains 20640 samples with 8 dimensions to predict the value of a house.\n"
      ]
    },
    {
      "cell_type": "code",
      "execution_count": 41,
      "metadata": {
        "id": "T8NUIU9Z_YE4"
      },
      "outputs": [],
      "source": [
        "from sklearn.datasets import fetch_california_housing\n",
        "\n",
        "housing_data = fetch_california_housing()"
      ]
    },
    {
      "cell_type": "markdown",
      "metadata": {
        "id": "njTHiuTYyOiO"
      },
      "source": [
        "You can optionally print the description and a few samples from the dataset for your reference."
      ]
    },
    {
      "cell_type": "code",
      "execution_count": 42,
      "metadata": {
        "id": "-YduDpy8BsWD",
        "colab": {
          "base_uri": "https://localhost:8080/"
        },
        "outputId": "390d64d8-724d-4d7d-e2e5-5f607edadab3"
      },
      "outputs": [
        {
          "output_type": "stream",
          "name": "stdout",
          "text": [
            "dict_keys(['data', 'target', 'frame', 'target_names', 'feature_names', 'DESCR'])\n",
            "(20640, 8)\n",
            ".. _california_housing_dataset:\n",
            "\n",
            "California Housing dataset\n",
            "--------------------------\n",
            "\n",
            "**Data Set Characteristics:**\n",
            "\n",
            "    :Number of Instances: 20640\n",
            "\n",
            "    :Number of Attributes: 8 numeric, predictive attributes and the target\n",
            "\n",
            "    :Attribute Information:\n",
            "        - MedInc        median income in block group\n",
            "        - HouseAge      median house age in block group\n",
            "        - AveRooms      average number of rooms per household\n",
            "        - AveBedrms     average number of bedrooms per household\n",
            "        - Population    block group population\n",
            "        - AveOccup      average number of household members\n",
            "        - Latitude      block group latitude\n",
            "        - Longitude     block group longitude\n",
            "\n",
            "    :Missing Attribute Values: None\n",
            "\n",
            "This dataset was obtained from the StatLib repository.\n",
            "https://www.dcc.fc.up.pt/~ltorgo/Regression/cal_housing.html\n",
            "\n",
            "The target variable is the median house value for California districts,\n",
            "expressed in hundreds of thousands of dollars ($100,000).\n",
            "\n",
            "This dataset was derived from the 1990 U.S. census, using one row per census\n",
            "block group. A block group is the smallest geographical unit for which the U.S.\n",
            "Census Bureau publishes sample data (a block group typically has a population\n",
            "of 600 to 3,000 people).\n",
            "\n",
            "A household is a group of people residing within a home. Since the average\n",
            "number of rooms and bedrooms in this dataset are provided per household, these\n",
            "columns may take surprisingly large values for block groups with few households\n",
            "and many empty houses, such as vacation resorts.\n",
            "\n",
            "It can be downloaded/loaded using the\n",
            ":func:`sklearn.datasets.fetch_california_housing` function.\n",
            "\n",
            ".. topic:: References\n",
            "\n",
            "    - Pace, R. Kelley and Ronald Barry, Sparse Spatial Autoregressions,\n",
            "      Statistics and Probability Letters, 33 (1997) 291-297\n",
            "\n",
            "        0     1         2         3       4         5      6       7\n",
            "0  8.3252  41.0  6.984127  1.023810   322.0  2.555556  37.88 -122.23\n",
            "1  8.3014  21.0  6.238137  0.971880  2401.0  2.109842  37.86 -122.22\n",
            "2  7.2574  52.0  8.288136  1.073446   496.0  2.802260  37.85 -122.24\n",
            "3  5.6431  52.0  5.817352  1.073059   558.0  2.547945  37.85 -122.25\n",
            "4  3.8462  52.0  6.281853  1.081081   565.0  2.181467  37.85 -122.25\n",
            "       0\n",
            "0  4.526\n",
            "1  3.585\n",
            "2  3.521\n",
            "3  3.413\n",
            "4  3.422\n"
          ]
        }
      ],
      "source": [
        "print(housing_data.keys())\n",
        "print(housing_data.data.shape)\n",
        "print(housing_data.DESCR)\n",
        "\n",
        "print(pd.DataFrame(housing_data.data)[:5])\n",
        "print(pd.DataFrame(housing_data.target)[:5])\n"
      ]
    },
    {
      "cell_type": "markdown",
      "metadata": {
        "id": "5sspyXSmy17q"
      },
      "source": [
        "**STEP 3: Split the Dataset (3 Points)**\n",
        "\n",
        "**TO DO:** Similar to the KNN Tutorial, split the given X and y data into X_train, X_test, y_train, y_test, using **test ratio of 0.3 and a random state of 0**."
      ]
    },
    {
      "cell_type": "code",
      "execution_count": 43,
      "metadata": {
        "id": "FlcuTTiTy9Tk",
        "colab": {
          "base_uri": "https://localhost:8080/"
        },
        "outputId": "eeedd321-9b63-432c-fdcd-171919388beb"
      },
      "outputs": [
        {
          "output_type": "stream",
          "name": "stdout",
          "text": [
            "Size of training data=  14448  Samples\n",
            "Size of testing data=  6192  Samples\n"
          ]
        }
      ],
      "source": [
        "from pandas.core.common import random_state\n",
        "X = housing_data.data\n",
        "y = housing_data.target\n",
        "\n",
        "\n",
        "##### Use numpy arrays ######\n",
        "X_train = None\n",
        "y_train = None\n",
        "X_test = None\n",
        "y_test = None\n",
        "\n",
        "\n",
        "##### INPUT CODE HERE (~1 line of code) ######\n",
        "X_train, X_test, y_train, y_test = train_test_split(X, y, test_size=0.3, random_state=0)\n",
        "##############################################\n",
        "\n",
        "assert X_train.shape == (14448, 8)\n",
        "assert y_train.shape == (14448,)\n",
        "assert X_test.shape == (6192, 8)\n",
        "assert y_test.shape == (6192,)\n",
        "\n",
        "print(\"Size of training data= \", X_train.shape[0],\" Samples\")\n",
        "print(\"Size of testing data= \", X_test.shape[0],\" Samples\")\n"
      ]
    },
    {
      "cell_type": "markdown",
      "metadata": {
        "id": "z3WOEAy8zjln"
      },
      "source": [
        "**STEP 4: Fit model to training data (4 Points)**\n",
        "\n",
        "**TO DO:** Fit the given decision tree to X_train and y_train data. You may use [this link](https://scikit-learn.org/stable/modules/generated/sklearn.tree.DecisionTreeClassifier.html#sklearn.tree.DecisionTreeClassifier.fit) for reference."
      ]
    },
    {
      "cell_type": "code",
      "execution_count": 44,
      "metadata": {
        "id": "pLKCjKwJzofY"
      },
      "outputs": [],
      "source": [
        "model = RandomForestRegressor()\n",
        "\n",
        "##### INPUT CODE HERE (~1 line of code) ######\n",
        "model = model.fit(X_train,y_train)\n",
        "##############################################"
      ]
    },
    {
      "cell_type": "markdown",
      "metadata": {
        "id": "xvTNzrcr0j4x"
      },
      "source": [
        "**STEP 4: Try Predicting Values**\n",
        "\n",
        "**TO DO (optional) :** Change values of features to see changes in the predicted value of house"
      ]
    },
    {
      "cell_type": "code",
      "execution_count": 45,
      "metadata": {
        "id": "9rIm-v6ZH0Ju",
        "colab": {
          "base_uri": "https://localhost:8080/"
        },
        "outputId": "3576cfa0-bab5-4984-fc59-299f8f4be34a"
      },
      "outputs": [
        {
          "output_type": "stream",
          "name": "stdout",
          "text": [
            "House Value Prediction= $ 495318.94999999896\n"
          ]
        }
      ],
      "source": [
        "# this is an example test case depicting how the prediction is done on a test data point.\n",
        "\n",
        "val1 = 22.3252\n",
        "val2 = 41.0\n",
        "val3 = 6.984127\n",
        "val4 = 1.023810\n",
        "val5 = 322.0\n",
        "val6 = 2.555556\n",
        "val7 = 37.88\n",
        "val8 = -122.23\n",
        "\n",
        "row = [[val1, val2, val3, val4, val5, val6, val7, val8]]\n",
        "\n",
        "# make a single prediction\n",
        "yhat = model.predict(row)\n",
        "\n",
        "print('House Value Prediction= $',yhat[0]*100000)"
      ]
    },
    {
      "cell_type": "markdown",
      "metadata": {
        "id": "RfzVPn0x437S"
      },
      "source": [
        "**STEP 5: Testing the model (4 Points)**\n",
        "\n",
        "**TO DO:** Find target predictions by giving **X_test** input to your model and store them in **y_pred**. You may need [this link](https://scikit-learn.org/stable/modules/generated/sklearn.tree.DecisionTreeClassifier.html#sklearn.tree.DecisionTreeClassifier.predict) for reference."
      ]
    },
    {
      "cell_type": "code",
      "execution_count": 46,
      "metadata": {
        "id": "oHbnwEyt48Mr",
        "colab": {
          "base_uri": "https://localhost:8080/"
        },
        "outputId": "1975ef36-04ce-4df9-f54c-d4d4a1fee383"
      },
      "outputs": [
        {
          "output_type": "stream",
          "name": "stdout",
          "text": [
            "[1.41084  2.47373  1.42392  ... 4.643795 0.70174  2.58831 ]\n"
          ]
        }
      ],
      "source": [
        "y_pred = None\n",
        "\n",
        "##### INPUT CODE HERE (~1 line of code) ######\n",
        "y_pred = model.predict(X_test)\n",
        "##############################################\n",
        "print(y_pred)"
      ]
    },
    {
      "cell_type": "markdown",
      "metadata": {
        "id": "qqGiMHYC5FFu"
      },
      "source": [
        "**STEP 6: Visualize the Results (4 Points)**\n",
        "\n",
        "**TO DO:** Since this is not a classification task, we cannot plot confusion matrix. Instead we ask you to find the mean square error evaluated on all the testing data and store it in **mse**.\n",
        "\n",
        "You may need the following reference:\n",
        "\n",
        "[Mean Square Error](https://scikit-learn.org/stable/modules/generated/sklearn.metrics.mean_squared_error.html)\n"
      ]
    },
    {
      "cell_type": "code",
      "execution_count": 47,
      "metadata": {
        "id": "sv-idAUX5Il-",
        "colab": {
          "base_uri": "https://localhost:8080/"
        },
        "outputId": "4ae4ae89-fa4d-4a66-a1a3-4e79fd617821"
      },
      "outputs": [
        {
          "output_type": "stream",
          "name": "stdout",
          "text": [
            "Mean Squared Error =  0.2740206352753926\n"
          ]
        }
      ],
      "source": [
        "mse = None\n",
        "\n",
        "##### INPUT CODE HERE (~1 line of code) ######\n",
        "mse = mean_squared_error(y_test, y_pred)\n",
        "##############################################\n",
        "\n",
        "print(\"Mean Squared Error = \",mse)"
      ]
    },
    {
      "cell_type": "markdown",
      "metadata": {
        "id": "gjrWJNii6Noe"
      },
      "source": [
        "\n",
        "\n",
        "---\n",
        "\n"
      ]
    },
    {
      "cell_type": "markdown",
      "metadata": {
        "id": "rZ167Bw2d9wx"
      },
      "source": [
        "# **Hyperparameter Tuning: 5 Points**"
      ]
    },
    {
      "cell_type": "markdown",
      "metadata": {
        "id": "jKHA6-2_KTDh"
      },
      "source": [
        "**STEP 1: Hyperparameter Tuning (5 Points)**\n",
        "\n",
        "**TO DO:** Given the different range of the hyper parameters, tune them using grid search to get the value of these variables to get the best model is. Make sure the grid search is run for **5 rounds** of cross validation using **negative mean squared error**. \n"
      ]
    },
    {
      "cell_type": "code",
      "execution_count": 48,
      "metadata": {
        "id": "-PZtUfovUgiQ"
      },
      "outputs": [],
      "source": [
        "from sklearn.model_selection import GridSearchCV"
      ]
    },
    {
      "cell_type": "code",
      "execution_count": 49,
      "metadata": {
        "id": "YHFVGQB1Uf_n",
        "colab": {
          "base_uri": "https://localhost:8080/",
          "height": 118
        },
        "outputId": "52d32676-7dc2-417c-b33e-1aa481fc99fe"
      },
      "outputs": [
        {
          "output_type": "execute_result",
          "data": {
            "text/plain": [
              "GridSearchCV(cv=5, estimator=RandomForestRegressor(),\n",
              "             param_grid=[{'max_depth': [6, 7, 8, 9], 'max_features': [4, 5, 6],\n",
              "                          'n_estimators': [10, 50, 100]}],\n",
              "             scoring='neg_mean_squared_error')"
            ],
            "text/html": [
              "<style>#sk-container-id-1 {color: black;background-color: white;}#sk-container-id-1 pre{padding: 0;}#sk-container-id-1 div.sk-toggleable {background-color: white;}#sk-container-id-1 label.sk-toggleable__label {cursor: pointer;display: block;width: 100%;margin-bottom: 0;padding: 0.3em;box-sizing: border-box;text-align: center;}#sk-container-id-1 label.sk-toggleable__label-arrow:before {content: \"▸\";float: left;margin-right: 0.25em;color: #696969;}#sk-container-id-1 label.sk-toggleable__label-arrow:hover:before {color: black;}#sk-container-id-1 div.sk-estimator:hover label.sk-toggleable__label-arrow:before {color: black;}#sk-container-id-1 div.sk-toggleable__content {max-height: 0;max-width: 0;overflow: hidden;text-align: left;background-color: #f0f8ff;}#sk-container-id-1 div.sk-toggleable__content pre {margin: 0.2em;color: black;border-radius: 0.25em;background-color: #f0f8ff;}#sk-container-id-1 input.sk-toggleable__control:checked~div.sk-toggleable__content {max-height: 200px;max-width: 100%;overflow: auto;}#sk-container-id-1 input.sk-toggleable__control:checked~label.sk-toggleable__label-arrow:before {content: \"▾\";}#sk-container-id-1 div.sk-estimator input.sk-toggleable__control:checked~label.sk-toggleable__label {background-color: #d4ebff;}#sk-container-id-1 div.sk-label input.sk-toggleable__control:checked~label.sk-toggleable__label {background-color: #d4ebff;}#sk-container-id-1 input.sk-hidden--visually {border: 0;clip: rect(1px 1px 1px 1px);clip: rect(1px, 1px, 1px, 1px);height: 1px;margin: -1px;overflow: hidden;padding: 0;position: absolute;width: 1px;}#sk-container-id-1 div.sk-estimator {font-family: monospace;background-color: #f0f8ff;border: 1px dotted black;border-radius: 0.25em;box-sizing: border-box;margin-bottom: 0.5em;}#sk-container-id-1 div.sk-estimator:hover {background-color: #d4ebff;}#sk-container-id-1 div.sk-parallel-item::after {content: \"\";width: 100%;border-bottom: 1px solid gray;flex-grow: 1;}#sk-container-id-1 div.sk-label:hover label.sk-toggleable__label {background-color: #d4ebff;}#sk-container-id-1 div.sk-serial::before {content: \"\";position: absolute;border-left: 1px solid gray;box-sizing: border-box;top: 0;bottom: 0;left: 50%;z-index: 0;}#sk-container-id-1 div.sk-serial {display: flex;flex-direction: column;align-items: center;background-color: white;padding-right: 0.2em;padding-left: 0.2em;position: relative;}#sk-container-id-1 div.sk-item {position: relative;z-index: 1;}#sk-container-id-1 div.sk-parallel {display: flex;align-items: stretch;justify-content: center;background-color: white;position: relative;}#sk-container-id-1 div.sk-item::before, #sk-container-id-1 div.sk-parallel-item::before {content: \"\";position: absolute;border-left: 1px solid gray;box-sizing: border-box;top: 0;bottom: 0;left: 50%;z-index: -1;}#sk-container-id-1 div.sk-parallel-item {display: flex;flex-direction: column;z-index: 1;position: relative;background-color: white;}#sk-container-id-1 div.sk-parallel-item:first-child::after {align-self: flex-end;width: 50%;}#sk-container-id-1 div.sk-parallel-item:last-child::after {align-self: flex-start;width: 50%;}#sk-container-id-1 div.sk-parallel-item:only-child::after {width: 0;}#sk-container-id-1 div.sk-dashed-wrapped {border: 1px dashed gray;margin: 0 0.4em 0.5em 0.4em;box-sizing: border-box;padding-bottom: 0.4em;background-color: white;}#sk-container-id-1 div.sk-label label {font-family: monospace;font-weight: bold;display: inline-block;line-height: 1.2em;}#sk-container-id-1 div.sk-label-container {text-align: center;}#sk-container-id-1 div.sk-container {/* jupyter's `normalize.less` sets `[hidden] { display: none; }` but bootstrap.min.css set `[hidden] { display: none !important; }` so we also need the `!important` here to be able to override the default hidden behavior on the sphinx rendered scikit-learn.org. See: https://github.com/scikit-learn/scikit-learn/issues/21755 */display: inline-block !important;position: relative;}#sk-container-id-1 div.sk-text-repr-fallback {display: none;}</style><div id=\"sk-container-id-1\" class=\"sk-top-container\"><div class=\"sk-text-repr-fallback\"><pre>GridSearchCV(cv=5, estimator=RandomForestRegressor(),\n",
              "             param_grid=[{&#x27;max_depth&#x27;: [6, 7, 8, 9], &#x27;max_features&#x27;: [4, 5, 6],\n",
              "                          &#x27;n_estimators&#x27;: [10, 50, 100]}],\n",
              "             scoring=&#x27;neg_mean_squared_error&#x27;)</pre><b>In a Jupyter environment, please rerun this cell to show the HTML representation or trust the notebook. <br />On GitHub, the HTML representation is unable to render, please try loading this page with nbviewer.org.</b></div><div class=\"sk-container\" hidden><div class=\"sk-item sk-dashed-wrapped\"><div class=\"sk-label-container\"><div class=\"sk-label sk-toggleable\"><input class=\"sk-toggleable__control sk-hidden--visually\" id=\"sk-estimator-id-1\" type=\"checkbox\" ><label for=\"sk-estimator-id-1\" class=\"sk-toggleable__label sk-toggleable__label-arrow\">GridSearchCV</label><div class=\"sk-toggleable__content\"><pre>GridSearchCV(cv=5, estimator=RandomForestRegressor(),\n",
              "             param_grid=[{&#x27;max_depth&#x27;: [6, 7, 8, 9], &#x27;max_features&#x27;: [4, 5, 6],\n",
              "                          &#x27;n_estimators&#x27;: [10, 50, 100]}],\n",
              "             scoring=&#x27;neg_mean_squared_error&#x27;)</pre></div></div></div><div class=\"sk-parallel\"><div class=\"sk-parallel-item\"><div class=\"sk-item\"><div class=\"sk-label-container\"><div class=\"sk-label sk-toggleable\"><input class=\"sk-toggleable__control sk-hidden--visually\" id=\"sk-estimator-id-2\" type=\"checkbox\" ><label for=\"sk-estimator-id-2\" class=\"sk-toggleable__label sk-toggleable__label-arrow\">estimator: RandomForestRegressor</label><div class=\"sk-toggleable__content\"><pre>RandomForestRegressor()</pre></div></div></div><div class=\"sk-serial\"><div class=\"sk-item\"><div class=\"sk-estimator sk-toggleable\"><input class=\"sk-toggleable__control sk-hidden--visually\" id=\"sk-estimator-id-3\" type=\"checkbox\" ><label for=\"sk-estimator-id-3\" class=\"sk-toggleable__label sk-toggleable__label-arrow\">RandomForestRegressor</label><div class=\"sk-toggleable__content\"><pre>RandomForestRegressor()</pre></div></div></div></div></div></div></div></div></div></div>"
            ]
          },
          "metadata": {},
          "execution_count": 49
        }
      ],
      "source": [
        "param_grid = [\n",
        "    {'n_estimators': [10, 50, 100], 'max_features': [4, 5, 6 ], 'max_depth': [6, 7, 8, 9]}\n",
        "]\n",
        "\n",
        "#Use Random Forests\n",
        "forest_reg = RandomForestRegressor()\n",
        "\n",
        "##############################################\n",
        "# Write the code for hyperparameter tuning using Grid Search for the above parameters\n",
        "# Carry out the grid search and fit the data on the above variable -> \"grid_search\"\n",
        "grid_search = GridSearchCV(estimator=forest_reg, param_grid=param_grid, cv = 5, scoring='neg_mean_squared_error')\n",
        "grid_search.fit(X_train, y_train)\n",
        "##############################################"
      ]
    },
    {
      "cell_type": "code",
      "execution_count": 50,
      "metadata": {
        "id": "zKupJ2WmK180",
        "colab": {
          "base_uri": "https://localhost:8080/"
        },
        "outputId": "a2b42b68-ea57-4e9b-d98f-1461e20a9ef2"
      },
      "outputs": [
        {
          "output_type": "execute_result",
          "data": {
            "text/plain": [
              "{'max_depth': 9, 'max_features': 4, 'n_estimators': 100}"
            ]
          },
          "metadata": {},
          "execution_count": 50
        }
      ],
      "source": [
        "# Display the best parameter combination\n",
        "grid_search.best_params_"
      ]
    },
    {
      "cell_type": "markdown",
      "source": [
        "# **Retrain the Random Forest Regressor model and Plot Learning Curves: 20 Points**"
      ],
      "metadata": {
        "id": "5axY3Mvely9L"
      }
    },
    {
      "cell_type": "markdown",
      "source": [
        "**TODO:  Retrain the model using only the top 5 features (10 Points)**"
      ],
      "metadata": {
        "id": "eE45RFvZjwg9"
      }
    },
    {
      "cell_type": "code",
      "source": [
        "# Get feature importances (2 points)\n",
        "##### INPUT CODE HERE (~1 line of code) ######\n",
        "importances = model.feature_importances_\n",
        "##############################################\n",
        "print(importances)\n",
        "# Sort feature importances in descending order and select top 5 (2 points)\n",
        "##### INPUT CODE HERE (~2 line of code) ######\n",
        "top_5_importances = sorted(importances,reverse=True)\n",
        "top_5_importances = top_5_importances[:5]\n",
        "print(top_5_importances)\n",
        "##############################################\n",
        "\n",
        "#print top 5 import features (2 points)\n",
        "print(\"Top 5 important features:\")\n",
        "##### INPUT CODE HERE (~2 line of code) ######\n",
        "top_5_indices = (-importances).argsort()[:5]\n",
        "top_5_cols = [housing_data.feature_names[i] for i in top_5_indices]\n",
        "#print(top_5_indices)\n",
        "print(top_5_cols)\n",
        "##############################################\n",
        "\n",
        "# Retrain the model using only the top 5 features (4 points)\n",
        "##### INPUT CODE HERE (~2 line of code) ######\n",
        "X_train_top_features = X_train[:,top_5_indices]\n",
        "X_test_top_features = X_test[:,top_5_indices]\n",
        "##############################################\n",
        "\n",
        "model.fit(X_train_top_features, y_train)\n",
        "y_pred = model.predict(X_test_top_features)\n",
        "\n",
        "mse = mean_squared_error(y_test, y_pred)\n",
        "#You should obtain MSE less than 0.3\n",
        "print(\"Mean Squared Error after feature selection = \", mse)"
      ],
      "metadata": {
        "id": "zoO1A39jjuaf",
        "colab": {
          "base_uri": "https://localhost:8080/"
        },
        "outputId": "2560ec4d-1a2c-4d07-e11e-acb11aa71c90"
      },
      "execution_count": 51,
      "outputs": [
        {
          "output_type": "stream",
          "name": "stdout",
          "text": [
            "[0.53184495 0.05625503 0.04827147 0.03050288 0.03094279 0.13595375\n",
            " 0.08226367 0.08396548]\n",
            "[0.5318449484397887, 0.13595374525080475, 0.08396547757866696, 0.08226367273633481, 0.056255025223144]\n",
            "Top 5 important features:\n",
            "['MedInc', 'AveOccup', 'Longitude', 'Latitude', 'HouseAge']\n",
            "Mean Squared Error after feature selection =  0.266272531345309\n"
          ]
        }
      ]
    },
    {
      "cell_type": "markdown",
      "source": [
        "**TODO:  Plot Learning Curve and Calculate Scores (10 Points)**"
      ],
      "metadata": {
        "id": "mve7Cd-al-s0"
      }
    },
    {
      "cell_type": "code",
      "source": [
        "from sklearn.model_selection import learning_curve\n",
        "\n",
        "# Get learning curves (3 points)\n",
        "##### INPUT CODE HERE (~2 line of code) ######\n",
        "train_sizes, train_scores, test_scores = learning_curve(model, X_train, y_train, cv=5)\n",
        "##############################################\n",
        "\n",
        "# Calculate mean and standard deviation for training set scores (3 points)\n",
        "##### INPUT CODE HERE (~2 line of code) ######\n",
        "train_mean = np.mean(train_scores, axis = 1)\n",
        "train_std = np.std(train_scores, axis = 1)\n",
        "print(train_mean)\n",
        "print(train_std)\n",
        "##############################################\n",
        "\n",
        "# Calculate mean and standard deviation for test set scores (4 points)\n",
        "##### INPUT CODE HERE (~2 line of code) ######\n",
        "test_mean = np.mean(test_scores, axis = 1)\n",
        "test_std = np.std(test_scores, axis = 1)\n",
        "print(test_mean)\n",
        "print(test_std)\n",
        "##############################################\n",
        "\n",
        "# Plot learning curves\n",
        "plt.plot(train_sizes, train_mean, label=\"Training score\")\n",
        "plt.plot(train_sizes, test_mean, label=\"Cross-validation score\")\n",
        "\n",
        "# Draw bands\n",
        "plt.fill_between(train_sizes, train_mean - train_std, train_mean + train_std, color=\"#DDDDDD\")\n",
        "plt.fill_between(train_sizes, test_mean - test_std, test_mean + test_std, color=\"#DDDDDD\")\n",
        "\n",
        "# Visualize : Create plot\n",
        "plt.title(\"Learning Curve\")\n",
        "plt.xlabel(\"Training Set Size\"), plt.ylabel(\"Accuracy Score\"), plt.legend(loc=\"best\")\n",
        "plt.tight_layout()\n",
        "plt.show()"
      ],
      "metadata": {
        "id": "xZskX09Hl8g_",
        "colab": {
          "base_uri": "https://localhost:8080/",
          "height": 558
        },
        "outputId": "da408a21-fe7d-4fd4-c91a-21369c5ca121"
      },
      "execution_count": 52,
      "outputs": [
        {
          "output_type": "stream",
          "name": "stdout",
          "text": [
            "[0.96328955 0.96786958 0.96972322 0.97058543 0.97175922]\n",
            "[0.00074138 0.0008581  0.00075795 0.00071393 0.0002546 ]\n",
            "[0.72240303 0.76710698 0.78365597 0.79293274 0.79780176]\n",
            "[0.00572901 0.00564964 0.00525938 0.00580692 0.00714053]\n"
          ]
        },
        {
          "output_type": "display_data",
          "data": {
            "text/plain": [
              "<Figure size 640x480 with 1 Axes>"
            ],
            "image/png": "[encoded data removed]"
          },
          "metadata": {}
        }
      ]
    },
    {
      "cell_type": "markdown",
      "metadata": {
        "id": "GvDiveQuUVjX"
      },
      "source": [
        "# **FYI Only**\n",
        "# The below code is for you to learn more about Random Forest and will not be graded"
      ]
    },
    {
      "cell_type": "markdown",
      "metadata": {
        "id": "aciYVvHl6SXc"
      },
      "source": [
        "This section is for your information only. Simply run the code cells one by one.\n",
        "\n",
        "We will take a closer look at some of the hyperparameters you should consider tuning for the random forest ensemble and their effect on model performance.\n",
        "\n",
        "We select the hyperparameters that give us the lowest error rate or Mean Square Error in this case."
      ]
    },
    {
      "cell_type": "markdown",
      "metadata": {
        "id": "MORy4fvn6tLr"
      },
      "source": [
        "First we define a function to evaluate a model using the mean square error metric."
      ]
    },
    {
      "cell_type": "code",
      "execution_count": null,
      "metadata": {
        "id": "CZMltehuec4q"
      },
      "outputs": [],
      "source": [
        "def find_mse(model, X, y):\n",
        "\n",
        "  yhat = model.predict(X)\n",
        "  mse = mean_squared_error(y,yhat) \n",
        "\n",
        "  return mse"
      ]
    },
    {
      "cell_type": "markdown",
      "metadata": {
        "id": "U53kHMzd6-7l"
      },
      "source": [
        "Next we define a function to test out various models and plot how the Mean Square Error evolves with respect to the hyperparameter in question."
      ]
    },
    {
      "cell_type": "code",
      "execution_count": null,
      "metadata": {
        "id": "ttit1Xm4eqeP"
      },
      "outputs": [],
      "source": [
        "from matplotlib import pyplot\n",
        "\n",
        "def plot_tuning(models_dict,X_train,X_test,y_train,y_test):\n",
        "\n",
        "  results, names = list(), list()\n",
        "\n",
        "  for name, model in models_dict.items():\n",
        "\n",
        "    model.fit(X_train, y_train)\n",
        "    mse = find_mse(model, X_test, y_test)\n",
        "  \n",
        "    results.append(mse)\n",
        "    names.append(name)\n",
        "    print(\"Hyperparameter= \",name,\"; MSE = \",mse)\n",
        "\n",
        "\n",
        "    n = [float(i) for i in names]\n",
        "\n",
        "  pyplot.plot(n,results)\n",
        "  pyplot.ylabel('Mean Square Error')\n",
        "  pyplot.xlabel('Hyperparameter')\n",
        "  pyplot.show()"
      ]
    },
    {
      "cell_type": "markdown",
      "metadata": {
        "id": "-AbjOvTDeCGR"
      },
      "source": [
        "**Hyperparameter:** max_samples.\n",
        "\n",
        "The **max_samples** argument can be set to a float between 0 and 1 to control the percentage of the size of the training dataset to make the sample used to train each decision tree. **None** means that the entire training set will be used to train each tree."
      ]
    },
    {
      "cell_type": "code",
      "execution_count": null,
      "metadata": {
        "id": "QcEEhuLEYpZ1"
      },
      "outputs": [],
      "source": [
        "#Store various models into a dictionary of models\n",
        "models_dict = dict()\n",
        "for i in np.arange(0.1, 1.1, 0.1):\n",
        "  # set max_samples=None to use 100%\n",
        "  key = round(i,2)\n",
        "  if i == 1.0:\n",
        "    i = None\n",
        "  models_dict[key] = RandomForestRegressor(max_samples=i)\n",
        "  "
      ]
    },
    {
      "cell_type": "code",
      "execution_count": null,
      "metadata": {
        "id": "3UkIwr82m4wF",
        "colab": {
          "base_uri": "https://localhost:8080/",
          "height": 628
        },
        "outputId": "4b6a3ae3-e016-40e6-c7c2-78c0f2714b85"
      },
      "outputs": [
        {
          "output_type": "stream",
          "name": "stdout",
          "text": [
            "Hyperparameter=  0.1 ; MSE =  0.32967027984819347\n",
            "Hyperparameter=  0.2 ; MSE =  0.30598127913673506\n",
            "Hyperparameter=  0.3 ; MSE =  0.29794196792990446\n",
            "Hyperparameter=  0.4 ; MSE =  0.2912421776811645\n",
            "Hyperparameter=  0.5 ; MSE =  0.2827942474111546\n",
            "Hyperparameter=  0.6 ; MSE =  0.27554681566914935\n",
            "Hyperparameter=  0.7 ; MSE =  0.2774347263851623\n",
            "Hyperparameter=  0.8 ; MSE =  0.27614660697227933\n",
            "Hyperparameter=  0.9 ; MSE =  0.2744236342949328\n",
            "Hyperparameter=  1.0 ; MSE =  0.2760055642749025\n"
          ]
        },
        {
          "output_type": "display_data",
          "data": {
            "text/plain": [
              "<Figure size 640x480 with 1 Axes>"
            ],
            "image/png": "[encoded data removed]"
          },
          "metadata": {}
        }
      ],
      "source": [
        "#Plot the MSE for all models in the dictionary\n",
        "plot_tuning(models_dict,X_train,X_test,y_train,y_test)"
      ]
    },
    {
      "cell_type": "markdown",
      "metadata": {
        "id": "U1TOelFJ9jXx"
      },
      "source": [
        "**Hyperparameter:** max_features.\n",
        "\n",
        "The number of features that is randomly sampled for each split point is perhaps the most important feature to configure for random forest."
      ]
    },
    {
      "cell_type": "code",
      "execution_count": null,
      "metadata": {
        "id": "V1TOiDTDgL7h"
      },
      "outputs": [],
      "source": [
        "#Store various models into a dictionary of models\n",
        "models_dict = dict()\n",
        "\n",
        "for i in range(1,8):\n",
        "  models_dict[str(i)] = RandomForestRegressor(max_features=i)\n"
      ]
    },
    {
      "cell_type": "code",
      "execution_count": null,
      "metadata": {
        "id": "LSgMQgIfne3Q"
      },
      "outputs": [],
      "source": [
        "#Plot the MSE for all models in the dictionary\n",
        "plot_tuning(models_dict,X_train,X_test,y_train,y_test)"
      ]
    },
    {
      "cell_type": "markdown",
      "metadata": {
        "id": "2FEQHe7Y-Khh"
      },
      "source": [
        "**Hyperparameter:** n_estimators.\n",
        "\n",
        "Typically, the number of trees is increased until the model performance stabilizes. Intuition might suggest that more trees will lead to overfitting, although this is not the case."
      ]
    },
    {
      "cell_type": "code",
      "execution_count": null,
      "metadata": {
        "id": "TTblvr9xnh_0"
      },
      "outputs": [],
      "source": [
        "#Store various models into a dictionary of models\n",
        "models_dict = dict()\n",
        "\n",
        "n_trees = [10, 50, 100, 500, 1000]\n",
        "for n in n_trees:\n",
        "    models_dict[str(n)] = RandomForestRegressor(n_estimators=n)"
      ]
    },
    {
      "cell_type": "code",
      "execution_count": null,
      "metadata": {
        "id": "FRLUXSYXoGeE"
      },
      "outputs": [],
      "source": [
        "#Plot the MSE for all models in the dictionary\n",
        "plot_tuning(models_dict,X_train,X_test,y_train,y_test)"
      ]
    },
    {
      "cell_type": "markdown",
      "metadata": {
        "id": "U50Q4-pUF1En"
      },
      "source": [
        "***"
      ]
    }
  ],
  "metadata": {
    "colab": {
      "provenance": []
    },
    "kernelspec": {
      "display_name": "Python 3 (ipykernel)",
      "language": "python",
      "name": "python3"
    },
    "language_info": {
      "codemirror_mode": {
        "name": "ipython",
        "version": 3
      },
      "file_extension": ".py",
      "mimetype": "text/x-python",
      "name": "python",
      "nbconvert_exporter": "python",
      "pygments_lexer": "ipython3",
      "version": "3.9.7"
    }
  },
  "nbformat": 4,
  "nbformat_minor": 0
}
